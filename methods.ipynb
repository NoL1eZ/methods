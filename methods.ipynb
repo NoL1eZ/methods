{
 "cells": [
  {
   "cell_type": "code",
   "execution_count": 2,
   "id": "d2620f5c-069c-4d4f-9ad9-78cec5ba1a38",
   "metadata": {},
   "outputs": [],
   "source": [
    "documents = [\n",
    "    {\"type\": \"passport\", \"number\": \"2207 876234\", \"name\": \"Василий Гупкин\"},\n",
    "    {\"type\": \"invoice\", \"number\": \"11-2\", \"name\": \"Геннадий Покемонов\"},\n",
    "    {\"type\": \"insurance\", \"number\": \"10006\", \"name\": \"Аристарх Павлов\"}\n",
    "]\n",
    "directories = {\n",
    "    '1': ['2207 876234', '11-2', '5455 028765'],\n",
    "    '2': ['10006'],\n",
    "    '3': []\n",
    "}"
   ]
  },
  {
   "cell_type": "code",
   "execution_count": null,
   "id": "e0e52d6a-7a99-47d0-8cee-5f76e5c99f67",
   "metadata": {},
   "outputs": [
    {
     "name": "stdin",
     "output_type": "stream",
     "text": [
      "Введите команду:  p\n",
      "Введите номер документа:  10006\n"
     ]
    },
    {
     "name": "stdout",
     "output_type": "stream",
     "text": [
      "Владелец документа: Аристарх Павлов\n"
     ]
    },
    {
     "name": "stdin",
     "output_type": "stream",
     "text": [
      "Введите команду:  p\n",
      "Введите номер документа:  12345\n"
     ]
    },
    {
     "name": "stdout",
     "output_type": "stream",
     "text": [
      "Документ не найден в базе\n"
     ]
    },
    {
     "name": "stdin",
     "output_type": "stream",
     "text": [
      "Введите команду:  s\n",
      "Введите номер документа:  10006\n"
     ]
    },
    {
     "name": "stdout",
     "output_type": "stream",
     "text": [
      "Документ хранится на полке: 2\n"
     ]
    },
    {
     "name": "stdin",
     "output_type": "stream",
     "text": [
      "Введите команду:  s\n",
      "Введите номер документа:  1223\n"
     ]
    },
    {
     "name": "stdout",
     "output_type": "stream",
     "text": [
      "Документ не найден в базе\n"
     ]
    },
    {
     "name": "stdin",
     "output_type": "stream",
     "text": [
      "Введите команду:  l\n"
     ]
    },
    {
     "name": "stdout",
     "output_type": "stream",
     "text": [
      "Результат:\n",
      "№: 2207 876234, тип: passport, владелец: Василий Гупкин, полка хранения: 1\n",
      "№: 11-2, тип: invoice, владелец: Геннадий Покемонов, полка хранения: 1\n",
      "№: 10006, тип: insurance, владелец: Аристарх Павлов, полка хранения: 2\n"
     ]
    },
    {
     "name": "stdin",
     "output_type": "stream",
     "text": [
      "Введите команду:  ads\n",
      "Введите номер полки:  10\n"
     ]
    },
    {
     "name": "stdout",
     "output_type": "stream",
     "text": [
      "Полка добавлена. Текущий перечень полок: 1, 2, 3, 10\n"
     ]
    },
    {
     "name": "stdin",
     "output_type": "stream",
     "text": [
      "Введите команду:  m\n"
     ]
    },
    {
     "name": "stdout",
     "output_type": "stream",
     "text": [
      "Некорректная команда. Попробуйте еще раз.\n"
     ]
    },
    {
     "name": "stdin",
     "output_type": "stream",
     "text": [
      "Введите команду:  ds\n",
      "Введите номер полки:  3\n"
     ]
    },
    {
     "name": "stdout",
     "output_type": "stream",
     "text": [
      "Полка удалена. Текущий перечень полок: 1, 2, 10\n"
     ]
    },
    {
     "name": "stdin",
     "output_type": "stream",
     "text": [
      "Введите команду:  ds\n",
      "Введите номер полки:  2\n"
     ]
    },
    {
     "name": "stdout",
     "output_type": "stream",
     "text": [
      "На полке есть документы, удалите их перед удалением полки. Текущий перечень полок: 1, 2, 10\n"
     ]
    }
   ],
   "source": [
    "def find_owner_by_doc_number(doc_number):\n",
    "    for document in documents:\n",
    "        if document['number'] == doc_number:\n",
    "            return document['name']\n",
    "    return None\n",
    "\n",
    "def find_shelf_by_doc_number(doc_number):\n",
    "    for shelf, docs in directories.items():\n",
    "        if doc_number in docs:\n",
    "            return shelf\n",
    "    return None\n",
    "\n",
    "def print_document_info():\n",
    "    for document in documents:\n",
    "        doc_number = document['number']\n",
    "        doc_type = document['type']\n",
    "        owner_name = document['name']\n",
    "        shelf = find_shelf_by_doc_number(doc_number)\n",
    "        print(f\"№: {doc_number}, тип: {doc_type}, владелец: {owner_name}, полка хранения: {shelf}\")\n",
    "\n",
    "def add_new_shelf(shelf_number):\n",
    "    if shelf_number in directories:\n",
    "        print(\"Такая полка уже существует. Текущий перечень полок:\", ', '.join(directories.keys()))\n",
    "    else:\n",
    "        directories[shelf_number] = []\n",
    "        print(\"Полка добавлена. Текущий перечень полок:\", ', '.join(directories.keys()))\n",
    "\n",
    "def delete_shelf(shelf_number):\n",
    "    if shelf_number in directories:\n",
    "        if len(directories[shelf_number]) > 0:\n",
    "            print(\"На полке есть документы, удалите их перед удалением полки. Текущий перечень полок:\", ', '.join(directories.keys()))\n",
    "        else:\n",
    "            del directories[shelf_number]\n",
    "            print(\"Полка удалена. Текущий перечень полок:\", ', '.join(directories.keys()))\n",
    "    else:\n",
    "        print(\"Такой полки не существует. Текущий перечень полок:\", ', '.join(directories.keys()))\n",
    "\n",
    "def process_user_command():\n",
    "    while True:\n",
    "        command = input(\"Введите команду: \")\n",
    "        \n",
    "        if command == \"q\":\n",
    "            print(\"Работа программы завершена.\")\n",
    "            break\n",
    "        \n",
    "        if command == \"p\":\n",
    "            doc_number = input(\"Введите номер документа: \")\n",
    "            owner = find_owner_by_doc_number(doc_number)\n",
    "            if owner:\n",
    "                print(\"Владелец документа:\", owner)\n",
    "            else:\n",
    "                print(\"Документ не найден в базе\")\n",
    "        \n",
    "        elif command == \"s\":\n",
    "            doc_number = input(\"Введите номер документа: \")\n",
    "            shelf = find_shelf_by_doc_number(doc_number)\n",
    "            if shelf:\n",
    "                print(\"Документ хранится на полке:\", shelf)\n",
    "            else:\n",
    "                print(\"Документ не найден в базе\")\n",
    "        \n",
    "        elif command == \"l\":\n",
    "            print(\"Результат:\")\n",
    "            print_document_info()\n",
    "        \n",
    "        elif command == \"ads\":\n",
    "            shelf_number = input(\"Введите номер полки: \")\n",
    "            add_new_shelf(shelf_number)\n",
    "        \n",
    "        elif command == \"ds\":\n",
    "            shelf_number = input(\"Введите номер полки: \")\n",
    "            delete_shelf(shelf_number)\n",
    "        \n",
    "        else:\n",
    "            print(\"Некорректная команда. Попробуйте еще раз.\")\n",
    "process_user_command()"
   ]
  },
  {
   "cell_type": "code",
   "execution_count": null,
   "id": "01a7cd99-5e47-4d87-9751-211a7c977ce5",
   "metadata": {},
   "outputs": [],
   "source": []
  }
 ],
 "metadata": {
  "kernelspec": {
   "display_name": "Python 3 (ipykernel)",
   "language": "python",
   "name": "python3"
  },
  "language_info": {
   "codemirror_mode": {
    "name": "ipython",
    "version": 3
   },
   "file_extension": ".py",
   "mimetype": "text/x-python",
   "name": "python",
   "nbconvert_exporter": "python",
   "pygments_lexer": "ipython3",
   "version": "3.8.9"
  }
 },
 "nbformat": 4,
 "nbformat_minor": 5
}
